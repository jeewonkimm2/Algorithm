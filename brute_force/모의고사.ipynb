{
 "cells": [
  {
   "cell_type": "markdown",
   "id": "6fb2cbe2",
   "metadata": {},
   "source": [
    "수포자는 수학을 포기한 사람의 준말입니다. 수포자 삼인방은 모의고사에 수학 문제를 전부 찍으려 합니다. 수포자는 1번 문제부터 마지막 문제까지 다음과 같이 찍습니다.\n",
    "\n",
    "1번 수포자가 찍는 방식: 1, 2, 3, 4, 5, 1, 2, 3, 4, 5, ...\n",
    "\n",
    "2번 수포자가 찍는 방식: 2, 1, 2, 3, 2, 4, 2, 5, 2, 1, 2, 3, 2, 4, 2, 5, ...\n",
    "\n",
    "3번 수포자가 찍는 방식: 3, 3, 1, 1, 2, 2, 4, 4, 5, 5, 3, 3, 1, 1, 2, 2, 4, 4, 5, 5, ...\n",
    "\n",
    "1번 문제부터 마지막 문제까지의 정답이 순서대로 들은 배열 answers가 주어졌을 때, 가장 많은 문제를 맞힌 사람이 누구인지 배열에 담아 return 하도록 solution 함수를 작성해주세요.\n",
    "\n",
    "<U>제한 조건</U>\n",
    "\n",
    "시험은 최대 10,000 문제로 구성되어있습니다.\n",
    "\n",
    "문제의 정답은 1, 2, 3, 4, 5중 하나입니다.\n",
    "\n",
    "가장 높은 점수를 받은 사람이 여럿일 경우, return하는 값을 오름차순 정렬해주세요.\n",
    "\n",
    "입출력 예\n",
    "\n",
    "answers\treturn\n",
    "\n",
    "[1,2,3,4,5]\t[1]\n",
    "\n",
    "[1,3,2,4,2]\t[1,2,3]\n",
    "\n",
    "<U>입출력 예 설명</U>\n",
    "\n",
    "입출력 예 #1\n",
    "\n",
    "수포자 1은 모든 문제를 맞혔습니다.\n",
    "\n",
    "수포자 2는 모든 문제를 틀렸습니다.\n",
    "\n",
    "수포자 3은 모든 문제를 틀렸습니다.\n",
    "\n",
    "따라서 가장 문제를 많이 맞힌 사람은 수포자 1입니다.\n",
    "\n",
    "입출력 예 #2\n",
    "\n",
    "모든 사람이 2문제씩을 맞췄습니다."
   ]
  },
  {
   "cell_type": "code",
   "execution_count": 1,
   "id": "e089bca7",
   "metadata": {},
   "outputs": [],
   "source": [
    "def solution(answers):\n",
    "    answer = []\n",
    "    \n",
    "    tmp = [0, 0, 0]\n",
    "    \n",
    "    s1 = [1, 2, 3, 4, 5]\n",
    "    s2 = [2, 1, 2, 3, 2, 4, 2, 5]\n",
    "    s3 = [3, 3, 1, 1, 2, 2, 4, 4, 5, 5]\n",
    "    \n",
    "    for i in range(len(answers)):\n",
    "        if answers[i] == s1[(i%5)]:\n",
    "            tmp[0] += 1\n",
    "        if answers[i] == s2[(i%8)]:\n",
    "            tmp[1] += 1\n",
    "        if answers[i] == s3[(i%10)]:\n",
    "            tmp[2] += 1\n",
    "    \n",
    "    for i in range(3):\n",
    "        if tmp[i] == max(tmp):\n",
    "            answer.append(i+1)\n",
    "    \n",
    "    return answer"
   ]
  }
 ],
 "metadata": {
  "kernelspec": {
   "display_name": "Python 3 (ipykernel)",
   "language": "python",
   "name": "python3"
  },
  "language_info": {
   "codemirror_mode": {
    "name": "ipython",
    "version": 3
   },
   "file_extension": ".py",
   "mimetype": "text/x-python",
   "name": "python",
   "nbconvert_exporter": "python",
   "pygments_lexer": "ipython3",
   "version": "3.8.13"
  }
 },
 "nbformat": 4,
 "nbformat_minor": 5
}
