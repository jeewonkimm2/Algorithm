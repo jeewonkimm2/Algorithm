{
  "nbformat": 4,
  "nbformat_minor": 0,
  "metadata": {
    "colab": {
      "provenance": [],
      "authorship_tag": "ABX9TyPK8AwshI0+m57Pxw4l8IDk"
    },
    "kernelspec": {
      "name": "python3",
      "display_name": "Python 3"
    },
    "language_info": {
      "name": "python"
    }
  },
  "cells": [
    {
      "cell_type": "code",
      "execution_count": null,
      "metadata": {
        "id": "dXUJawAD4T-l"
      },
      "outputs": [],
      "source": [
        "from collections import deque\n",
        "\n",
        "queue = deque()"
      ]
    },
    {
      "cell_type": "code",
      "source": [
        "queue.append(5)\n",
        "queue.append(2)\n",
        "queue.append(3)\n",
        "queue.append(7)\n",
        "queue.popleft()\n",
        "queue.append(1)\n",
        "queue.append(4)\n",
        "queue.popleft()"
      ],
      "metadata": {
        "colab": {
          "base_uri": "https://localhost:8080/"
        },
        "id": "fQ8sVTIK4Ymd",
        "outputId": "49a96c78-e26e-4da9-83e8-9606435b96bd"
      },
      "execution_count": null,
      "outputs": [
        {
          "output_type": "execute_result",
          "data": {
            "text/plain": [
              "2"
            ]
          },
          "metadata": {},
          "execution_count": 2
        }
      ]
    },
    {
      "cell_type": "code",
      "source": [
        "print(queue)"
      ],
      "metadata": {
        "id": "aonM3wRR4f9-",
        "outputId": "09a9ff12-5f6c-4b8e-a8ab-a693a40f4f24",
        "colab": {
          "base_uri": "https://localhost:8080/"
        }
      },
      "execution_count": null,
      "outputs": [
        {
          "output_type": "stream",
          "name": "stdout",
          "text": [
            "deque([3, 7, 1, 4])\n"
          ]
        }
      ]
    },
    {
      "cell_type": "code",
      "source": [
        "queue.reverse()\n",
        "print(queue)"
      ],
      "metadata": {
        "id": "RSqPER2C4ho4",
        "outputId": "182d5047-5e9c-474e-f707-8d9b329c70c0",
        "colab": {
          "base_uri": "https://localhost:8080/"
        }
      },
      "execution_count": null,
      "outputs": [
        {
          "output_type": "stream",
          "name": "stdout",
          "text": [
            "deque([4, 1, 7, 3])\n"
          ]
        }
      ]
    }
  ]
}