{
  "nbformat": 4,
  "nbformat_minor": 0,
  "metadata": {
    "colab": {
      "provenance": [],
      "authorship_tag": "ABX9TyMAy50/wVDr7yFaGu6qsDl/"
    },
    "kernelspec": {
      "name": "python3",
      "display_name": "Python 3"
    },
    "language_info": {
      "name": "python"
    }
  },
  "cells": [
    {
      "cell_type": "code",
      "execution_count": null,
      "metadata": {
        "id": "rIb5onOq3-Jq"
      },
      "outputs": [],
      "source": [
        "stack = []"
      ]
    },
    {
      "cell_type": "code",
      "source": [
        "stack.append(5)\n",
        "stack.append(2)\n",
        "stack.append(3)\n",
        "stack.append(7)\n",
        "stack.pop()\n",
        "stack.append(1)\n",
        "stack.append(4)\n",
        "stack.pop()"
      ],
      "metadata": {
        "colab": {
          "base_uri": "https://localhost:8080/"
        },
        "id": "5XsIdXxg4DkJ",
        "outputId": "690382dd-94e3-4461-e685-339058d9fcab"
      },
      "execution_count": null,
      "outputs": [
        {
          "output_type": "execute_result",
          "data": {
            "text/plain": [
              "4"
            ]
          },
          "metadata": {},
          "execution_count": 5
        }
      ]
    },
    {
      "cell_type": "code",
      "source": [
        "print(stack)"
      ],
      "metadata": {
        "colab": {
          "base_uri": "https://localhost:8080/"
        },
        "id": "J2Jha53g4Ld9",
        "outputId": "8999a35c-7685-406c-ca67-0b2e3c3a1a96"
      },
      "execution_count": null,
      "outputs": [
        {
          "output_type": "stream",
          "name": "stdout",
          "text": [
            "[5, 2, 3, 1]\n"
          ]
        }
      ]
    },
    {
      "cell_type": "code",
      "source": [
        "print(stack[::-1])"
      ],
      "metadata": {
        "id": "ZwYQBZoz4OEo",
        "outputId": "75bdf099-a8f0-4034-b79d-9751ee105708",
        "colab": {
          "base_uri": "https://localhost:8080/"
        }
      },
      "execution_count": null,
      "outputs": [
        {
          "output_type": "stream",
          "name": "stdout",
          "text": [
            "[1, 3, 2, 5]\n"
          ]
        }
      ]
    }
  ]
}